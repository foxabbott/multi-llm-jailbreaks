{
 "cells": [
  {
   "cell_type": "code",
   "execution_count": 1,
   "metadata": {},
   "outputs": [
    {
     "name": "stdout",
     "output_type": "stream",
     "text": [
      "/Users/kaspar/Studies/Dusseldorf/Apart Labs/multi-llm-jailbreaks\n"
     ]
    },
    {
     "name": "stderr",
     "output_type": "stream",
     "text": [
      "/Applications/anaconda3/envs/jailbreak2/lib/python3.11/site-packages/IPython/core/magics/osm.py:417: UserWarning: This is now an optional IPython functionality, setting dhist requires you to install the `pickleshare` library.\n",
      "  self.shell.db['dhist'] = compress_dhist(dhist)[-100:]\n"
     ]
    }
   ],
   "source": [
    "cd .."
   ]
  },
  {
   "cell_type": "code",
   "execution_count": 2,
   "metadata": {},
   "outputs": [],
   "source": [
    "import os\n",
    "import json\n",
    "import matplotlib.pyplot as plt"
   ]
  },
  {
   "cell_type": "code",
   "execution_count": 3,
   "metadata": {},
   "outputs": [
    {
     "name": "stdout",
     "output_type": "stream",
     "text": [
      "['ada_opp_second_debate_college_empty_gpt-3.5-turbo_gpt-3.5-turbo_(21_04_24--16_21_43).json', 'ada_pro_first_debate_college_empty_gpt-3.5-turbo_gpt-3.5-turbo_(21_04_24--17_08_48).json', 'ada_pro_second_debate_college_empty_gpt-3.5-turbo_gpt-3.5-turbo_(21_04_24--16_32_33).json', 'ada_opp_first_debate_college_empty_gpt-3.5-turbo_gpt-3.5-turbo_(21_04_24--15_54_07).json', 'ada_pro_second_debate_college_empty_gpt-3.5-turbo_gpt-3.5-turbo_(21_04_24--16_39_40).json']\n"
     ]
    }
   ],
   "source": [
    "exp_dir = 'experiments/symmetry'\n",
    "exp_dicts = []\n",
    "for exp in os.listdir(exp_dir):\n",
    "    with open(f'{exp_dir}/{exp}', 'r') as f:\n",
    "        d = json.load(f)\n",
    "        d['name'] = exp\n",
    "        exp_dicts.append(d)\n",
    "\n",
    "\n",
    "print(os.listdir(exp_dir))"
   ]
  },
  {
   "cell_type": "code",
   "execution_count": 23,
   "metadata": {},
   "outputs": [],
   "source": [
    "ava_pro_first = {\n",
    "    'ava_by_judge':3,\n",
    "    'brian_by_judge':11,\n",
    "    'ava_by_concession':6,\n",
    "    'brian_by_concession':0\n",
    "}\n",
    "\n",
    "ava_opp_first = {\n",
    "    'ava_by_judge':0,\n",
    "    'brian_by_judge':20,\n",
    "    'ava_by_concession':0,\n",
    "    'brian_by_concession':0\n",
    "}\n",
    "\n",
    "ava_pro_second = {\n",
    "    'ava_by_judge':19,\n",
    "    'brian_by_judge':0,\n",
    "    'ava_by_concession':1,\n",
    "    'brian_by_concession':0\n",
    "}\n",
    "\n",
    "ava_opp_second = {\n",
    "    'ava_by_judge':19,\n",
    "    'brian_by_judge':0,\n",
    "    'ava_by_concession':0,\n",
    "    'brian_by_concession':1\n",
    "}\n",
    "\n",
    "scores_dicts = [ava_opp_first,ava_pro_first,ava_opp_second,ava_pro_second]"
   ]
  },
  {
   "cell_type": "code",
   "execution_count": null,
   "metadata": {},
   "outputs": [],
   "source": [
    "exp_dict=exp_dicts[2]\n",
    "\n",
    "print(exp_dict['name'])\n",
    "for key, value in exp_dict.items():\n",
    "    if 'Experiment' not in key:\n",
    "        continue\n",
    "    else:\n",
    "        judgement = value[-2][-1].lower()\n",
    "        print(judgement)\n",
    "\n",
    "\n",
    "    \n",
    "    "
   ]
  },
  {
   "cell_type": "code",
   "execution_count": 48,
   "metadata": {},
   "outputs": [
    {
     "data": {
      "image/png": "[encoded data removed]",
      "text/plain": [
       "<Figure size 640x480 with 1 Axes>"
      ]
     },
     "metadata": {},
     "output_type": "display_data"
    }
   ],
   "source": [
    "import numpy as np\n",
    "import matplotlib.pyplot as plt\n",
    "\n",
    "scores = np.array([list(d.values()) for d in scores_dicts])\n",
    "score_T = scores.T\n",
    "\n",
    "N = 4\n",
    "ind = np.arange(N)  # the x locations for the groups\n",
    "width = 0.2      # the width of the bars\n",
    "\n",
    "fig = plt.figure()\n",
    "ax = fig.add_subplot(111)\n",
    "\n",
    "\n",
    "rects1 = ax.bar(ind, score_T[0], width, color='r')\n",
    "rects2 = ax.bar(ind+width, score_T[1], width, color='g')\n",
    "rects3 = ax.bar(ind+width*2, score_T[2], width, color='b')\n",
    "rects4 = ax.bar(ind+width*3, score_T[3], width, color='y')\n",
    "\n",
    "\n",
    "ax.set_ylabel('Counts')\n",
    "ax.set_xticks(ind+width)\n",
    "ax.set_yticks(np.arange(21))\n",
    "ax.legend((rects1[0], rects2[0], rects3[0], rects4[0]),('ava_by_judge', 'brian_by_judge', 'ava_by_concession','brian_by_concession'), loc='upper center', bbox_to_anchor=(0.5, -0.07),\n",
    "          fancybox=True, shadow=True, ncol=5)\n",
    "plt.xticks(np.arange(4)+0.2,['ava_opp_first','ava_pro_first','ava_opp_second','ava_pro_second'])\n",
    "\n",
    "# def autolabel(rects):\n",
    "#     for rect in rects:\n",
    "#         h = rect.get_height()\n",
    "#         ax.text(rect.get_x()+rect.get_width()/2., 1.05*h, '%d'%int(h),\n",
    "#                 ha='center', va='bottom')\n",
    "\n",
    "# autolabel(rects1)\n",
    "# autolabel(rects2)\n",
    "# autolabel(rects3)\n",
    "\n",
    "plt.show()"
   ]
  }
 ],
 "metadata": {
  "kernelspec": {
   "display_name": "jailbreak2",
   "language": "python",
   "name": "python3"
  },
  "language_info": {
   "codemirror_mode": {
    "name": "ipython",
    "version": 3
   },
   "file_extension": ".py",
   "mimetype": "text/x-python",
   "name": "python",
   "nbconvert_exporter": "python",
   "pygments_lexer": "ipython3",
   "version": "3.11.0"
  }
 },
 "nbformat": 4,
 "nbformat_minor": 2
}
